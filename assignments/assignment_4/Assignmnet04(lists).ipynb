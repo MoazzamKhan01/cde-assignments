{
 "cells": [
  {
   "cell_type": "markdown",
   "id": "b5700e00",
   "metadata": {},
   "source": [
    "1. Write a program that accepts a list from user and print the alternate element of list. \n"
   ]
  },
  {
   "cell_type": "code",
   "execution_count": 3,
   "id": "a3abb95b",
   "metadata": {},
   "outputs": [
    {
     "name": "stdout",
     "output_type": "stream",
     "text": [
      "Alternate elements of the list are: ['1', '3', '5']\n"
     ]
    }
   ],
   "source": [
    "lst = []\n",
    "elements = input(\"Enter the elements seperated by space:\")\n",
    "lst = elements.split()\n",
    "print(\"Alternate elements of the list are:\", lst[::2])"
   ]
  },
  {
   "cell_type": "markdown",
   "id": "08644a12",
   "metadata": {},
   "source": [
    "2. Write a program that accepts a list from user. Your program should reverse the content of list and\n",
    "display it. Do not use reverse() method."
   ]
  },
  {
   "cell_type": "code",
   "execution_count": 5,
   "id": "4ed2dd5a",
   "metadata": {},
   "outputs": [
    {
     "name": "stdout",
     "output_type": "stream",
     "text": [
      "Revesed list: ['6', '5', '4', '3', '2', '1']\n"
     ]
    }
   ],
   "source": [
    "lst = []\n",
    "elements = input(\"Enter the elements seperated by space:\")\n",
    "lst = elements.split()\n",
    "rev_lst = lst[::-1]\n",
    "print(\"Revesed list:\", rev_lst)"
   ]
  },
  {
   "cell_type": "markdown",
   "id": "4b4358a5",
   "metadata": {},
   "source": [
    " 3. Find and display the largest number of a list without using built-in function max(). Your program\n",
    "should ask the user to input values in list from keyboard"
   ]
  },
  {
   "cell_type": "code",
   "execution_count": 6,
   "id": "9472fce7",
   "metadata": {},
   "outputs": [
    {
     "name": "stdout",
     "output_type": "stream",
     "text": [
      "The largest number is: 65\n"
     ]
    }
   ],
   "source": [
    "elements = input(\"Enter numbers separated by space: \")\n",
    "lst = list(map(int, elements.split()))\n",
    "\n",
    "largest = lst[0]\n",
    "i = 1\n",
    "while i < len(lst):\n",
    "    if lst[i] > largest:\n",
    "        largest = lst[i]\n",
    "    i += 1\n",
    "\n",
    "print(\"The largest number is:\", largest)\n"
   ]
  },
  {
   "cell_type": "markdown",
   "id": "3ce230b9",
   "metadata": {},
   "source": [
    "4. Write a program that rotates the element of a list so that the element at the first index moves to the\n",
    "second index, the element in the second index moves to the third index, etc., and the element in the last\n",
    "index moves to the first index."
   ]
  },
  {
   "cell_type": "code",
   "execution_count": 7,
   "id": "e5541d2f",
   "metadata": {},
   "outputs": [
    {
     "name": "stdout",
     "output_type": "stream",
     "text": [
      "Rotated List: ['7', '1', '2', '3', '4', '5', '6']\n"
     ]
    }
   ],
   "source": [
    "lst = input(\"Enter elements separated by space: \").split()\n",
    "\n",
    "# rotate: last element comes to the front\n",
    "rotated_list = [lst[-1]] + lst[:-1]\n",
    "\n",
    "print(\"Rotated List:\", rotated_list)"
   ]
  },
  {
   "cell_type": "markdown",
   "id": "3e6496a7",
   "metadata": {},
   "source": [
    "5. Write a program that input a string and ask user to delete a given word from a string. \n"
   ]
  },
  {
   "cell_type": "code",
   "execution_count": 8,
   "id": "3598cf42",
   "metadata": {},
   "outputs": [
    {
     "name": "stdout",
     "output_type": "stream",
     "text": [
      "Updated string: hey  is khan\n"
     ]
    }
   ],
   "source": [
    "text = input(\"Enter a string: \")\n",
    "word_to_delete = input(\"Enter the word you want to delete: \")\n",
    "\n",
    "new_text = text.replace(word_to_delete, \"\")\n",
    "\n",
    "print(\"Updated string:\", new_text.strip())\n"
   ]
  },
  {
   "cell_type": "markdown",
   "id": "b08d4bbe",
   "metadata": {},
   "source": [
    " 6. Write a program that reads a string from the user containing a date in the form mm/dd/yyyy. It\n",
    "should print the date in the form March 12, 2021"
   ]
  },
  {
   "cell_type": "code",
   "execution_count": 12,
   "id": "4658944b",
   "metadata": {},
   "outputs": [
    {
     "name": "stdout",
     "output_type": "stream",
     "text": [
      "September 11, 2002\n"
     ]
    }
   ],
   "source": [
    "months = {\n",
    "    \"01\": \"January\", \"02\": \"February\", \"03\": \"March\", \"04\": \"April\",\n",
    "    \"05\": \"May\", \"06\": \"June\", \"07\": \"July\", \"08\": \"August\",\n",
    "    \"09\": \"September\", \"10\": \"October\", \"11\": \"November\", \"12\": \"December\"\n",
    "}\n",
    "\n",
    "date = input(\"Enter date in mm/dd/yyyy format: \")\n",
    "mm, dd, yyyy = date.split(\"/\")\n",
    "print(f\"{months[mm]} {int(dd)}, {yyyy}\")\n"
   ]
  },
  {
   "cell_type": "markdown",
   "id": "e5871279",
   "metadata": {},
   "source": [
    " 7. Write a program with a function that accepts a string from keyboard and create a new string after\n",
    "converting character of each word capitalized. For instance, if the sentence is \"stop and smell the roses.\"\n",
    "the output should be \"Stop And Smell The Roses\" "
   ]
  },
  {
   "cell_type": "code",
   "execution_count": 14,
   "id": "1a847c3d",
   "metadata": {},
   "outputs": [
    {
     "name": "stdout",
     "output_type": "stream",
     "text": [
      "Converted sentence: Hi My Name Is Khan And Im A Data Engineer\n"
     ]
    }
   ],
   "source": [
    "text = input(\"Enter a sentence: \")\n",
    "print(\"Converted sentence:\", text.title())\n"
   ]
  },
  {
   "attachments": {
    "image.png": {
     "image/png": "[encoded data removed]"
    }
   },
   "cell_type": "markdown",
   "id": "3faaf4c6",
   "metadata": {},
   "source": [
    "8. Find the sum of each row of matrix of size m x n. For example for the following matrix output will be\n",
    "like this : \n",
    "\n",
    "\n",
    "![image.png](attachment:image.png)\n",
    "\n",
    "\n",
    "Sum of row 1 = 32\n",
    "Sum of row 2 = 31\n",
    "Sum of row 3 = 63 "
   ]
  },
  {
   "cell_type": "code",
   "execution_count": 15,
   "id": "5d7ea4ba",
   "metadata": {},
   "outputs": [
    {
     "name": "stdout",
     "output_type": "stream",
     "text": [
      "Sum of row 1 = 32\n",
      "Sum of row 2 = 31\n",
      "Sum of row 3 = 63\n"
     ]
    }
   ],
   "source": [
    "matrix = [\n",
    "    [2, 11, 7, 12],\n",
    "    [5, 2, 9, 15],\n",
    "    [8, 3, 10, 42]\n",
    "]\n",
    "\n",
    "for i in range(len(matrix)):\n",
    "    row_sum = sum(matrix[i])   \n",
    "    print(f\"Sum of row {i+1} = {row_sum}\")\n"
   ]
  },
  {
   "cell_type": "markdown",
   "id": "28148b74",
   "metadata": {},
   "source": [
    "9. Write a program to add two matrices of size n x m. \n"
   ]
  },
  {
   "cell_type": "code",
   "execution_count": 18,
   "id": "9b8cb9c2",
   "metadata": {},
   "outputs": [
    {
     "name": "stdout",
     "output_type": "stream",
     "text": [
      "\n",
      "Enter elements of first matrix:\n",
      "\n",
      "Enter elements of second matrix:\n",
      "\n",
      "Resultant Matrix after Addition:\n",
      "[3, 5]\n",
      "[5, 7]\n"
     ]
    }
   ],
   "source": [
    "rows = int(input(\"Enter number of rows: \"))\n",
    "cols = int(input(\"Enter number of columns: \"))\n",
    "\n",
    "print(\"\\nEnter elements of first matrix:\")\n",
    "matrix1 = []\n",
    "for i in range(rows):\n",
    "    row = list(map(int, input().split()))\n",
    "    matrix1.append(row)\n",
    "\n",
    "print(\"\\nEnter elements of second matrix:\")\n",
    "matrix2 = []\n",
    "for i in range(rows):\n",
    "    row = list(map(int, input().split()))\n",
    "    matrix2.append(row)\n",
    "\n",
    "# Add two matrices\n",
    "result = []\n",
    "for i in range(rows):\n",
    "    row = []\n",
    "    for j in range(cols):\n",
    "        row.append(matrix1[i][j] + matrix2[i][j])\n",
    "    result.append(row)\n",
    "\n",
    "# Print result\n",
    "print(\"\\nResultant Matrix after Addition:\")\n",
    "for r in result:\n",
    "    print(r)\n"
   ]
  },
  {
   "cell_type": "markdown",
   "id": "371142fe",
   "metadata": {},
   "source": [
    "10. Write a program to multiply two matrices "
   ]
  },
  {
   "cell_type": "code",
   "execution_count": 20,
   "id": "1cbb240f",
   "metadata": {},
   "outputs": [
    {
     "name": "stdout",
     "output_type": "stream",
     "text": [
      "Enter elements of first matrix:\n",
      "Enter elements of second matrix:\n",
      "\n",
      "Resultant Matrix after Multiplication:\n",
      "[20, 23]\n",
      "[46, 53]\n"
     ]
    }
   ],
   "source": [
    "rows1 = int(input(\"Enter rows of first matrix: \"))\n",
    "cols1 = int(input(\"Enter columns of first matrix: \"))\n",
    "\n",
    "print(\"Enter elements of first matrix:\")\n",
    "A = []\n",
    "for i in range(rows1):\n",
    "    row = list(map(int, input().split()))\n",
    "    A.append(row)\n",
    "\n",
    "# Input second matrix\n",
    "rows2 = int(input(\"Enter rows of second matrix: \"))\n",
    "cols2 = int(input(\"Enter columns of second matrix: \"))\n",
    "\n",
    "print(\"Enter elements of second matrix:\")\n",
    "B = []\n",
    "for i in range(rows2):\n",
    "    row = list(map(int, input().split()))\n",
    "    B.append(row)\n",
    "\n",
    "# Check multiplication possibility\n",
    "if cols1 != rows2:\n",
    "    print(\"Matrix multiplication not possible! (columns of A ≠ rows of B)\")\n",
    "else:\n",
    "    # Initialize result matrix with zeros\n",
    "    result = [[0 for _ in range(cols2)] for _ in range(rows1)]\n",
    "\n",
    "    # Multiply\n",
    "    for i in range(rows1):\n",
    "        for j in range(cols2):\n",
    "            for k in range(cols1):\n",
    "                result[i][j] += A[i][k] * B[k][j]\n",
    "\n",
    "    # Print result\n",
    "    print(\"\\nResultant Matrix after Multiplication:\")\n",
    "    for row in result:\n",
    "        print(row)\n"
   ]
  }
 ],
 "metadata": {
  "kernelspec": {
   "display_name": "base",
   "language": "python",
   "name": "python3"
  },
  "language_info": {
   "codemirror_mode": {
    "name": "ipython",
    "version": 3
   },
   "file_extension": ".py",
   "mimetype": "text/x-python",
   "name": "python",
   "nbconvert_exporter": "python",
   "pygments_lexer": "ipython3",
   "version": "3.13.5"
  }
 },
 "nbformat": 4,
 "nbformat_minor": 5
}
