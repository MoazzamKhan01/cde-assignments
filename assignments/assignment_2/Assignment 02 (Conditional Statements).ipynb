{
 "cells": [
  {
   "cell_type": "markdown",
   "metadata": {},
   "source": [
    "1) A company decided to give bonus of 5% to employee if his/her year of service is more than 5 years.\n",
    "Ask user for their salary and year of service and print the net bonus amount."
   ]
  },
  {
   "cell_type": "code",
   "execution_count": 1,
   "metadata": {},
   "outputs": [
    {
     "name": "stdout",
     "output_type": "stream",
     "text": [
      "The net bonus amount is 2800.0\n"
     ]
    }
   ],
   "source": [
    "a = int(input(\"Enter your years of service: \"))\n",
    "if  a > 5:\n",
    "    b = int(input(\"Enter your current salary: \"))\n",
    "    print(f\"The net bonus amount is {b*0.05}\")\n",
    "else:\n",
    "    print(\"You're not eligible for bonus\")\n"
   ]
  },
  {
   "cell_type": "markdown",
   "metadata": {},
   "source": [
    "\n",
    "2) Write a program to check whether a person is eligible for voting or not. (accept age from user) if age is greater than 17 eligible otherwise not eligible"
   ]
  },
  {
   "cell_type": "code",
   "execution_count": 3,
   "metadata": {},
   "outputs": [
    {
     "name": "stdout",
     "output_type": "stream",
     "text": [
      "You're elegible to cast your vote\n"
     ]
    }
   ],
   "source": [
    "age = int(input(\"Enter your age: \"))\n",
    "if age > 17:\n",
    "    print(\"You're elegible to cast your vote\")\n",
    "else:\n",
    "    print(\"You're not elegible\")"
   ]
  },
  {
   "cell_type": "markdown",
   "metadata": {},
   "source": [
    "\n",
    "3) Write a program to check whether a number entered by user is even or odd."
   ]
  },
  {
   "cell_type": "code",
   "execution_count": 4,
   "metadata": {},
   "outputs": [
    {
     "name": "stdout",
     "output_type": "stream",
     "text": [
      "The number is Odd\n"
     ]
    }
   ],
   "source": [
    "a = int(input(\"Enter any number: \"))\n",
    "if a % 2 == 0:\n",
    "    print(\"The number is Even\")\n",
    "else:\n",
    "    print(\"The number is Odd\")\n"
   ]
  },
  {
   "cell_type": "markdown",
   "metadata": {},
   "source": [
    "4) Write a program to check whether a number is divisible by 7 or not.\n",
    "Show Answer"
   ]
  },
  {
   "cell_type": "code",
   "execution_count": 6,
   "metadata": {},
   "outputs": [
    {
     "name": "stdout",
     "output_type": "stream",
     "text": [
      "The number is divisible by 7\n"
     ]
    }
   ],
   "source": [
    "a = int(input(\"Enter any number: \"))\n",
    "if a % 7 == 0:\n",
    "    print(\"The number is divisible by 7\")\n",
    "else:\n",
    "    print(\"The number is not divisible by 7\")\n"
   ]
  },
  {
   "cell_type": "markdown",
   "metadata": {},
   "source": [
    "5) Write a program to display \n",
    "\"Hello\" if a number entered by user is a multiple of five , otherwise print \"Bye\"."
   ]
  },
  {
   "cell_type": "code",
   "execution_count": 7,
   "metadata": {},
   "outputs": [
    {
     "name": "stdout",
     "output_type": "stream",
     "text": [
      "The number is multiple of five\n"
     ]
    }
   ],
   "source": [
    "a = int(input(\"Enter any number: \"))\n",
    "if a % 5 == 0:\n",
    "    print(\"The number is multiple of five\")\n",
    "else:\n",
    "    print(\"The number is not multiple of 5\")"
   ]
  },
  {
   "cell_type": "markdown",
   "metadata": {},
   "source": [
    "7) Write a program to display the last digit of a number.\n"
   ]
  },
  {
   "cell_type": "code",
   "execution_count": 8,
   "metadata": {},
   "outputs": [
    {
     "name": "stdout",
     "output_type": "stream",
     "text": [
      "The last digit is 7\n"
     ]
    }
   ],
   "source": [
    "a = int(input(\"Enter any number: \"))\n",
    "last_digit = a % 10\n",
    "print(f\"The last digit is {last_digit}\")"
   ]
  },
  {
   "cell_type": "markdown",
   "metadata": {},
   "source": [
    "9) Take values of length and breadth of a rectangle from user and print if it is square or rectangle."
   ]
  },
  {
   "cell_type": "code",
   "execution_count": 9,
   "metadata": {},
   "outputs": [
    {
     "name": "stdout",
     "output_type": "stream",
     "text": [
      "It is reactangle\n"
     ]
    }
   ],
   "source": [
    "lent = int(input(\"Enter length: \"))\n",
    "bre = int(input(\"Enter breadth: \"))\n",
    "if lent==bre:\n",
    "    print(\"It is square\")\n",
    "else:\n",
    "    print(\"It is reactangle\")"
   ]
  },
  {
   "cell_type": "markdown",
   "metadata": {},
   "source": [
    "10) Take two int values from user and print greatest among them."
   ]
  },
  {
   "cell_type": "code",
   "execution_count": 10,
   "metadata": {},
   "outputs": [
    {
     "name": "stdout",
     "output_type": "stream",
     "text": [
      "a is greater: 7\n"
     ]
    }
   ],
   "source": [
    "a = int(input(\"Enter a: \"))\n",
    "b = int(input(\"Enter b: \"))\n",
    "if a > b:\n",
    "    print(f\"a is greater: {a}\")\n",
    "else:\n",
    "    print(f\"b is greater: {b}\")\n"
   ]
  },
  {
   "cell_type": "markdown",
   "metadata": {},
   "source": [
    "11) A shop will give discount of 10% if the cost of purchased quantity is more than 1000.\n",
    "Ask user for quantity\n",
    "Suppose, one unit will cost 100.\n",
    "Judge and print total cost for user."
   ]
  },
  {
   "cell_type": "code",
   "execution_count": null,
   "metadata": {},
   "outputs": [
    {
     "name": "stdout",
     "output_type": "stream",
     "text": [
      "your Total cost after 10% discount is 405000.0Rs\n"
     ]
    }
   ],
   "source": [
    "pur_quan = int(input(\"Enter quantity: \"))\n",
    "unt_cost = 100\n",
    "tot_cost = pur_quan * unt_cost\n",
    "if pur_quan > 1000:\n",
    "    discount = tot_cost * 0.10\n",
    "    tot_cost_after_discout = tot_cost - discount\n",
    "    print(f\"your Total cost after 10% discount is {tot_cost_after_discout} Rs.\")\n",
    "else:\n",
    "    print(f\"Total cost {tot_cost}\")"
   ]
  },
  {
   "cell_type": "markdown",
   "metadata": {},
   "source": [
    "12) A school has following rules for grading system:\n",
    "\n",
    "a. Below 25 - F\n",
    "\n",
    "b. 25 to 45 - E\n",
    "\n",
    "c. 45 to 50 - D\n",
    "\n",
    "d. 50 to 60 - C\n",
    "\n",
    "e. 60 to 80 - B\n",
    "\n",
    "f. Above 80 - A\n",
    "\n",
    "Ask user to enter marks and print the corresponding grade."
   ]
  },
  {
   "cell_type": "code",
   "execution_count": 15,
   "metadata": {},
   "outputs": [
    {
     "name": "stdout",
     "output_type": "stream",
     "text": [
      "B grade\n"
     ]
    }
   ],
   "source": [
    "marks = int(input(\"Enter your marks: \"))\n",
    "if marks >= 80:\n",
    "    print(\"A grade\")\n",
    "elif  60 <= marks <= 80:\n",
    "    print(\"B grade\")\n",
    "elif  50 <= marks <= 60:\n",
    "    print(\"C grade\")\n",
    "elif  45 <= marks <= 50:\n",
    "    print(\"D grade\")\n",
    "elif  25 <= marks <= 45:\n",
    "    print(\"E grade\")\n",
    "else:\n",
    "    print(\"F grade\")\n"
   ]
  },
  {
   "cell_type": "markdown",
   "metadata": {},
   "source": [
    "14)A student will not be allowed to sit in exam if his/her attendence is less than 75%.\n",
    "\n",
    "Take following input from user\n",
    "\n",
    "Number of classes held\n",
    "\n",
    "Number of classes attended.\n",
    "\n",
    "And print\n",
    "\n",
    "percentage of class attended\n",
    "\n",
    "Is student is allowed to sit in exam or not.\n"
   ]
  },
  {
   "cell_type": "code",
   "execution_count": 16,
   "metadata": {},
   "outputs": [
    {
     "name": "stdout",
     "output_type": "stream",
     "text": [
      "percentage of classes attended 86.56716417910447%\n",
      "You're allowed to sit in exams\n"
     ]
    }
   ],
   "source": [
    "tot_classes = int(input(\"Enter number of classes held: \"))\n",
    "att_classes = int(input(\"Enter number of classes attended: \"))\n",
    "percent = (att_classes/tot_classes)*100\n",
    "print(f\"percentage of classes attended {percent}%\")\n",
    "if percent > 75:\n",
    "    print(\"You're allowed to sit in exams\")\n",
    "else:\n",
    "   print(\"You're not allowed to sit in exams\")\n"
   ]
  },
  {
   "cell_type": "markdown",
   "metadata": {},
   "source": [
    "15) Modify the above question to allow student to sit if he/she has medical cause. Ask user if he/she has medical cause or not ( 'Y' or 'N' ) and print accordingly."
   ]
  },
  {
   "cell_type": "code",
   "execution_count": 18,
   "metadata": {},
   "outputs": [
    {
     "name": "stdout",
     "output_type": "stream",
     "text": [
      "percentage of classes attended 34.84848484848485%\n",
      "You're allowed to sit in exam due to your medical cause\n"
     ]
    }
   ],
   "source": [
    "tot_classes = int(input(\"Enter number of classes held: \"))\n",
    "att_classes = int(input(\"Enter number of classes attended: \"))\n",
    "percent = (att_classes/tot_classes)*100\n",
    "print(f\"percentage of classes attended {percent}%\")\n",
    "if percent > 75:\n",
    "    print(\"You're allowed to sit in exams\")\n",
    "else:\n",
    "    med = input(\"Do you have medical cause? (Y/N): \")\n",
    "    if med.upper() == 'Y':\n",
    "        print(\"You're allowed to sit in exam due to your medical cause\")\n",
    "    else:\n",
    "        print(\"You're not allowed to sit in exams\")\n"
   ]
  },
  {
   "cell_type": "markdown",
   "metadata": {},
   "source": [
    "16) Write a program to check if a year is leap year or not.\n",
    "\n",
    "If a year is divisible by 4 then it is leap year but if the year is century year like 2000, 1900, 2100 then it must be divisible by 400."
   ]
  },
  {
   "cell_type": "code",
   "execution_count": 19,
   "metadata": {},
   "outputs": [
    {
     "name": "stdout",
     "output_type": "stream",
     "text": [
      "Its a leap year\n"
     ]
    }
   ],
   "source": [
    "a = int(input(\"Enter any year: \"))\n",
    "if (a % 400 == 0) or (a % 4 == 0 and a % 100 != 0):\n",
    "    print(\"Its a leap year\")\n",
    "else:\n",
    "    print(\"It's not a leap year\")"
   ]
  },
  {
   "cell_type": "markdown",
   "metadata": {},
   "source": [
    "17) Ask user to enter age, gender ( M or F ), marital status ( Y or N ) and then using following rules print their place of service.\n",
    "\n",
    "if employee is female, then she will work only in urban areas.\n",
    "\n",
    "if employee is a male and age is in between 20 to 40 then he may work in anywhere\n",
    "\n",
    "if employee is male and age is in between 40 t0 60 then he will work in urban areas only.\n",
    "\n",
    "And any other input of age should print \"ERROR\""
   ]
  },
  {
   "cell_type": "code",
   "execution_count": null,
   "metadata": {},
   "outputs": [],
   "source": [
    "age = int(input(\"Enter your age: \"))\n",
    "gender = input(\"Enter your gender? (M/F):\")\n",
    "if gender.upper() == 'F':\n",
    "    print(\"You can only work in urban areas\")\n",
    "elif gender.upper() == 'M' and 20 <= age <= 40:\n",
    "    print(\"You can work anywhere\")\n",
    "elif gender.upper() == 'M' and 40 <= age <= 60:\n",
    "    print(\"You will work in urban areas only\")\n",
    "else:\n",
    "    print(\"Error\")\n",
    "\n"
   ]
  },
  {
   "cell_type": "markdown",
   "metadata": {},
   "source": [
    "6) Write a program to calculate the electricity bill (accept number of unit from user) according to the following criteria :\n",
    "     Unit                                                     Price  \n",
    "uptp 100 units                                             no charge\n",
    "Next 200 units                                              Rs 5 per unit\n",
    "After 200 units                                             Rs 10 per unit\n",
    "(For example if input unit is 350 than total bill amount is Rs.3500\n",
    "(For example if input unit is 97 than total bill amount is Rs.0\n",
    "(For example if input unit is 150 than total bill amount is Rs.750"
   ]
  },
  {
   "cell_type": "markdown",
   "metadata": {},
   "source": [
    "13) Take input of age of 3 people by user and determine oldest and youngest among them."
   ]
  },
  {
   "cell_type": "code",
   "execution_count": 20,
   "metadata": {},
   "outputs": [
    {
     "name": "stdout",
     "output_type": "stream",
     "text": [
      "Your bill amount is zero\n"
     ]
    }
   ],
   "source": [
    "units = int(input(\"Enter your units: \"))\n",
    "if units <= 100:\n",
    "    print(\"Your bill amount is zero\")\n",
    "elif 100 <= units <= 200:\n",
    "    print(f\"Your bill is Rs.{units* 5}\")\n",
    "else:\n",
    "    print(f\"Your bill amount is {units*10}\")\n"
   ]
  }
 ],
 "metadata": {
  "kernelspec": {
   "display_name": "base",
   "language": "python",
   "name": "python3"
  },
  "language_info": {
   "codemirror_mode": {
    "name": "ipython",
    "version": 3
   },
   "file_extension": ".py",
   "mimetype": "text/x-python",
   "name": "python",
   "nbconvert_exporter": "python",
   "pygments_lexer": "ipython3",
   "version": "3.13.5"
  }
 },
 "nbformat": 4,
 "nbformat_minor": 2
}
