{
  "cells": [
    {
      "cell_type": "markdown",
      "metadata": {
        "id": "XLFr4w_7OFN7"
      },
      "source": [
        "1. Write a Python program to create a class representing a Circle. Include methods to calculate its area and perimeter."
      ]
    },
    {
      "cell_type": "code",
      "execution_count": 14,
      "metadata": {},
      "outputs": [
        {
          "name": "stdout",
          "output_type": "stream",
          "text": [
            "Area of circle is: 167.188\n",
            "Perimter of a circle is 47.768\n"
          ]
        }
      ],
      "source": [
        "class circle:\n",
        "    def __init__(self, radius):\n",
        "        self.radius = radius\n",
        "\n",
        "    def area(self):\n",
        "        print(f\"Area of circle is: {3.412*self.radius**2}\")\n",
        "    \n",
        "    def perimrter(self):\n",
        "        print(f\"Perimter of a circle is {2*3.412*self.radius}\")\n",
        "\n",
        "cir_obj = circle(7)\n",
        "cir_obj.area()\n",
        "cir_obj.perimrter()"
      ]
    },
    {
      "cell_type": "markdown",
      "metadata": {
        "id": "CBPk4mH4OTCO"
      },
      "source": [
        "2. Write a Python program to create a person class. Include attributes like name, country and date of birth. Implement a method to determine the person's age.\n"
      ]
    },
    {
      "cell_type": "code",
      "execution_count": 18,
      "metadata": {},
      "outputs": [
        {
          "name": "stdout",
          "output_type": "stream",
          "text": [
            "Age: 23\n"
          ]
        }
      ],
      "source": [
        "class person:\n",
        "    def __init__(self, name,country,yob):\n",
        "        self.name = name\n",
        "        self.country = country \n",
        "        self.yob = yob\n",
        "\n",
        "    \n",
        "    def age(self):\n",
        "        print(f\"Age: {2025-self.yob}\")\n",
        "\n",
        "per = person(\"Khan\",\"pak\",2002)\n",
        "per.age()\n"
      ]
    },
    {
      "cell_type": "markdown",
      "metadata": {},
      "source": [
        "3. Write a Python program to create a calculator class. Include methods for basic arithmetic operations."
      ]
    },
    {
      "cell_type": "code",
      "execution_count": 28,
      "metadata": {},
      "outputs": [
        {
          "name": "stdout",
          "output_type": "stream",
          "text": [
            "Addition:5\n",
            "Subtraction:-1\n",
            "Multiplication:6\n",
            "Division:0.6666666666666666\n",
            "Modulo:2\n"
          ]
        }
      ],
      "source": [
        "class calculator:\n",
        "    def __init__(self,num_1,num_2):\n",
        "        self.num_1 = num_1\n",
        "        self.num_2 = num_2\n",
        "\n",
        "    def add(self):\n",
        "        print(f\"Addition:{self.num_1+self.num_2}\")\n",
        "    \n",
        "    def sub(self):\n",
        "        print(f\"Subtraction:{self.num_1-self.num_2}\")\n",
        "\n",
        "    def mul(self):\n",
        "        print(f\"Multiplication:{self.num_1*self.num_2}\")\n",
        "\n",
        "    def div(self):\n",
        "        print(f\"Division:{self.num_1/self.num_2}\")\n",
        "    \n",
        "    def mod(self):\n",
        "        print(f\"Modulo:{self.num_1%self.num_2}\")\n",
        "\n",
        "cal = calculator(2,3)\n",
        "cal.add()\n",
        "cal.sub()\n",
        "cal.mul()\n",
        "cal.div()\n",
        "cal.mod()"
      ]
    },
    {
      "cell_type": "code",
      "execution_count": null,
      "metadata": {},
      "outputs": [],
      "source": []
    }
  ],
  "metadata": {
    "colab": {
      "provenance": []
    },
    "kernelspec": {
      "display_name": "base",
      "language": "python",
      "name": "python3"
    },
    "language_info": {
      "codemirror_mode": {
        "name": "ipython",
        "version": 3
      },
      "file_extension": ".py",
      "mimetype": "text/x-python",
      "name": "python",
      "nbconvert_exporter": "python",
      "pygments_lexer": "ipython3",
      "version": "3.13.5"
    }
  },
  "nbformat": 4,
  "nbformat_minor": 0
}
