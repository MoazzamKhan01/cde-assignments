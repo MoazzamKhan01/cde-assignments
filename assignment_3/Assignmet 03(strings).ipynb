{
 "cells": [
  {
   "cell_type": "markdown",
   "id": "f86d2dc6",
   "metadata": {},
   "source": [
    "1. Write a program that accepts a string from user. Your program should count and display number of\n",
    "vowels in that string. "
   ]
  },
  {
   "cell_type": "code",
   "execution_count": 1,
   "id": "81ec2b86",
   "metadata": {},
   "outputs": [
    {
     "name": "stdout",
     "output_type": "stream",
     "text": [
      "the number of vowels in string are 7\n"
     ]
    }
   ],
   "source": [
    "string = input(\"Enter a string: \")\n",
    "vowels = \"aeiouAEIOU\"\n",
    "count = 0\n",
    "for ch in string:\n",
    "    if ch in vowels:\n",
    "        count += 1\n",
    "print(f\"the number of vowels in string are {count}\")"
   ]
  },
  {
   "cell_type": "markdown",
   "id": "e449c138",
   "metadata": {},
   "source": [
    "2. Write a program that reads a string from keyboard and display:\n",
    "* The number of uppercase letters in the string\n",
    "* The number of lowercase letters in the string\n",
    "* The number of digits in the string\n",
    "* The number of whitespace characters in the string "
   ]
  },
  {
   "cell_type": "code",
   "execution_count": 3,
   "id": "1446dca6",
   "metadata": {},
   "outputs": [
    {
     "name": "stdout",
     "output_type": "stream",
     "text": [
      "Number of uppercase letters 1\n",
      "Number of lowerrcase letters 24\n",
      "Number of digits 2\n",
      "Number of whitespace 7\n"
     ]
    }
   ],
   "source": [
    "text = input(\"Enter a text: \")\n",
    "\n",
    "uppercase = 0\n",
    "lowercase = 0\n",
    "digits = 0\n",
    "whitespace = 0\n",
    "\n",
    "for char in text:\n",
    "    if char.isupper():\n",
    "        uppercase += 1\n",
    "    elif char.islower():\n",
    "        lowercase += 1\n",
    "    elif char.isdigit():\n",
    "        digits += 1\n",
    "    elif char.isspace():\n",
    "        whitespace += 1\n",
    "\n",
    "print(\"Number of uppercase letters\", uppercase)\n",
    "print(\"Number of lowerrcase letters\", lowercase)\n",
    "print(\"Number of digits\", digits)\n",
    "print(\"Number of whitespace\", whitespace)"
   ]
  },
  {
   "cell_type": "markdown",
   "id": "3751b08f",
   "metadata": {},
   "source": [
    " 3. Write a Python program that accepts a string from user. Your program should create and display a\n",
    "new string where the first and last characters have been exchanged.\n",
    "For example if the user enters the string 'HELLO' then new string would be 'OELLH' \n"
   ]
  },
  {
   "cell_type": "code",
   "execution_count": 4,
   "id": "6bfbbb15",
   "metadata": {},
   "outputs": [
    {
     "name": "stdout",
     "output_type": "stream",
     "text": [
      "New string after exchange: oellh\n"
     ]
    }
   ],
   "source": [
    "text = input(\"Enter a string: \")\n",
    "\n",
    "if len(text) > 1:\n",
    "    new_text = text[-1] + text[1:len(text)-1] + text[0]\n",
    "else:\n",
    "    new_text = text\n",
    "\n",
    "print(\"New string after exchange:\", new_text)\n"
   ]
  },
  {
   "cell_type": "markdown",
   "id": "01cf61aa",
   "metadata": {},
   "source": [
    "4. Write a Python program that accepts a string from user. Your program should create a new string in\n",
    "reverse of first string and display it.\n",
    "For example if the user enters the string 'EXAM' then new string would be 'MAXE' "
   ]
  },
  {
   "cell_type": "code",
   "execution_count": 6,
   "id": "bcd82d23",
   "metadata": {},
   "outputs": [
    {
     "name": "stdout",
     "output_type": "stream",
     "text": [
      "reversed string: olleh\n"
     ]
    }
   ],
   "source": [
    "text = input(\"Enter a string: \")\n",
    "new_text = text[::-1]\n",
    "print(\"reversed string:\", new_text)"
   ]
  },
  {
   "cell_type": "markdown",
   "id": "7eca0ea4",
   "metadata": {},
   "source": [
    " 5. Write a Python program that accepts a string from user. Your program should create a new string by\n",
    "shifting one position to left.\n",
    "For example if the user enters the string 'examination 2021' then new string would be 'xamination\n",
    "2021e' "
   ]
  },
  {
   "cell_type": "code",
   "execution_count": 9,
   "id": "57bcdc57",
   "metadata": {},
   "outputs": [
    {
     "name": "stdout",
     "output_type": "stream",
     "text": [
      "new string after left shift ont quitd\n"
     ]
    }
   ],
   "source": [
    "text = input(\"Enter a string: \")\n",
    "if len(text)>1:\n",
    "    new_text = text[1:] + text[0]\n",
    "else:\n",
    "    new_text = text\n",
    "print(\"new string after left shift\", new_text)"
   ]
  },
  {
   "cell_type": "markdown",
   "id": "679067c1",
   "metadata": {},
   "source": [
    "6. Write a program that asks the user to input his name and print its initials. Assuming that the user\n",
    "always types first name, middle name and last name and does not include any unnecessary spaces.\n",
    "For example, if the user enters Ajay Kumar Garg the program should display A. K. G.\n",
    "Note:Don't use split() method"
   ]
  },
  {
   "cell_type": "code",
   "execution_count": 11,
   "id": "fecfe59c",
   "metadata": {},
   "outputs": [
    {
     "name": "stdout",
     "output_type": "stream",
     "text": [
      "Initials: T. H. K.\n"
     ]
    }
   ],
   "source": [
    "name = input(\"Enter your full name (First Middle Last): \")\n",
    "\n",
    "initials = \"\"\n",
    "initials += name[0].upper() + \". \"\n",
    "\n",
    "for i in range(len(name)):\n",
    "    if name[i] == \" \" and i+1 < len(name):\n",
    "        initials += name[i+1].upper() + \". \"\n",
    "\n",
    "print(\"Initials:\", initials.strip())\n",
    "\n"
   ]
  },
  {
   "cell_type": "markdown",
   "id": "2a104416",
   "metadata": {},
   "source": [
    "7. A palindrome is a string that reads the same backward as forward. For example, the words dad,\n",
    "madam and radar are all palindromes. Write a programs that determines whether the string is a\n",
    "palindrome.\n",
    "Note: do not use reverse() method \n"
   ]
  },
  {
   "cell_type": "code",
   "execution_count": 14,
   "id": "969193db",
   "metadata": {},
   "outputs": [
    {
     "name": "stdout",
     "output_type": "stream",
     "text": [
      "The string is not a palindrome.\n"
     ]
    }
   ],
   "source": [
    "text = input(\"Enter a string: \")\n",
    "\n",
    "if text.lower() == text.lower()[::-1]:\n",
    "    print(\"The string is a palindrome.\")\n",
    "else:\n",
    "    print(\"The string is not a palindrome.\")\n"
   ]
  },
  {
   "cell_type": "markdown",
   "id": "2707089f",
   "metadata": {},
   "source": [
    "8. Write a program that display following output:\n",
    "SHIFT\n",
    "HIFTS\n",
    "IFTSH\n",
    "FTSHI\n",
    "TSHIF\n",
    "SHIFT \n"
   ]
  },
  {
   "cell_type": "code",
   "execution_count": 15,
   "id": "8a3f1dfc",
   "metadata": {},
   "outputs": [
    {
     "name": "stdout",
     "output_type": "stream",
     "text": [
      "SHIFT\n",
      "HIFTS\n",
      "IFTSH\n",
      "FTSHI\n",
      "TSHIF\n",
      "SHIFT\n"
     ]
    }
   ],
   "source": [
    "text = \"SHIFT\"\n",
    "print(text)\n",
    "for i in range(1, len(text)):\n",
    "    rotated = text[i:] + text[:i]\n",
    "    print(rotated)\n",
    "print(text)\n"
   ]
  },
  {
   "cell_type": "markdown",
   "id": "661c87fa",
   "metadata": {},
   "source": [
    " 9. Write a program in python that accepts a string to setup a passwords. Your entered password must\n",
    "meet the following requirements:\n",
    "The password must be at least eight characters long.\n",
    "It must contain at least one uppercase letter.\n",
    "It must contain at least one lowercase letter.\n",
    "It must contain at least one numeric digit.\n",
    "Your program should should perform this validation."
   ]
  },
  {
   "cell_type": "code",
   "execution_count": 19,
   "id": "2851d9c6",
   "metadata": {},
   "outputs": [
    {
     "name": "stdout",
     "output_type": "stream",
     "text": [
      "Password is valid \n"
     ]
    }
   ],
   "source": [
    "password = input(\"Enter your password: \")\n",
    "\n",
    "has_upper = False\n",
    "has_lower = False\n",
    "has_digit = False\n",
    "\n",
    "if len(password) >= 8:\n",
    "    for char in password:\n",
    "        if char.isupper():\n",
    "            has_upper = True\n",
    "        elif char.islower():\n",
    "            has_lower = True\n",
    "        elif char.isdigit():\n",
    "            has_digit = True\n",
    "\n",
    "    if has_upper and has_lower and has_digit:\n",
    "        print(\"Password is valid \")\n",
    "    else:\n",
    "        print(\"Password is invalid . It must contain at least one uppercase, one lowercase, and one digit.\")\n",
    "else:\n",
    "    print(\"Password is invalid . It must be at least 8 characters long.\")\n"
   ]
  },
  {
   "cell_type": "code",
   "execution_count": null,
   "id": "f50d645e",
   "metadata": {},
   "outputs": [],
   "source": []
  }
 ],
 "metadata": {
  "kernelspec": {
   "display_name": "base",
   "language": "python",
   "name": "python3"
  },
  "language_info": {
   "codemirror_mode": {
    "name": "ipython",
    "version": 3
   },
   "file_extension": ".py",
   "mimetype": "text/x-python",
   "name": "python",
   "nbconvert_exporter": "python",
   "pygments_lexer": "ipython3",
   "version": "3.13.5"
  }
 },
 "nbformat": 4,
 "nbformat_minor": 5
}
